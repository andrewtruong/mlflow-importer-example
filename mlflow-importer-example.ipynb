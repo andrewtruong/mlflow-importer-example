{
 "cells": [
  {
   "attachments": {},
   "cell_type": "markdown",
   "metadata": {},
   "source": [
    "# MLflow Importer Example"
   ]
  },
  {
   "attachments": {},
   "cell_type": "markdown",
   "metadata": {},
   "source": [
    "## 1. Setup MLFlow"
   ]
  },
  {
   "cell_type": "code",
   "execution_count": 12,
   "metadata": {},
   "outputs": [
    {
     "name": "stderr",
     "output_type": "stream",
     "text": [
      "2023/02/16 16:50:30 INFO mlflow.tracking.fluent: Experiment with name 'Experiment c6cdfdd6-c5cc-45f1-a8df-403dd3255e88' does not exist. Creating a new experiment.\n",
      "2023/02/16 16:50:34 INFO mlflow.tracking.fluent: Experiment with name 'Experiment 87934503-3d9d-470f-9977-4ab7fb66dcd4' does not exist. Creating a new experiment.\n"
     ]
    }
   ],
   "source": [
    "from log_to_mlflow import log_to_mlflow\n",
    "\n",
    "log_to_mlflow('http://localhost:4040')"
   ]
  },
  {
   "attachments": {},
   "cell_type": "markdown",
   "metadata": {},
   "source": [
    "## 2. Import Experiments, Runs, Artifacts from MLFlow to W&B"
   ]
  },
  {
   "cell_type": "code",
   "execution_count": 13,
   "metadata": {},
   "outputs": [],
   "source": [
    "from wandb.apis.importers import MlflowImporter"
   ]
  },
  {
   "cell_type": "code",
   "execution_count": 14,
   "metadata": {},
   "outputs": [],
   "source": [
    "importer = MlflowImporter(mlflow_tracking_uri='http://localhost:4040')"
   ]
  },
  {
   "attachments": {},
   "cell_type": "markdown",
   "metadata": {},
   "source": [
    "### 2.1. Import everything in parallel"
   ]
  },
  {
   "cell_type": "code",
   "execution_count": 15,
   "metadata": {},
   "outputs": [
    {
     "data": {
      "application/vnd.jupyter.widget-view+json": {
       "model_id": "f16c11f68e6f411dbba195e79d5b5b65",
       "version_major": 2,
       "version_minor": 0
      },
      "text/plain": [
       "  0%|          | 0/3 [00:00<?, ?it/s]"
      ]
     },
     "metadata": {},
     "output_type": "display_data"
    },
    {
     "data": {
      "application/vnd.jupyter.widget-view+json": {
       "model_id": "709a8ff252a243aca822262ef2f25c6a",
       "version_major": 2,
       "version_minor": 0
      },
      "text/plain": [
       "  0%|          | 0/3 [00:00<?, ?it/s]"
      ]
     },
     "metadata": {},
     "output_type": "display_data"
    },
    {
     "data": {
      "application/vnd.jupyter.widget-view+json": {
       "model_id": "97478e2797f645bf9b7e27ed17933644",
       "version_major": 2,
       "version_minor": 0
      },
      "text/plain": [
       "  0%|          | 0/3 [00:00<?, ?it/s]"
      ]
     },
     "metadata": {},
     "output_type": "display_data"
    },
    {
     "data": {
      "application/vnd.jupyter.widget-view+json": {
       "model_id": "8c10fc4adc354077ad8fcb54344c30e3",
       "version_major": 2,
       "version_minor": 0
      },
      "text/plain": [
       "0it [00:00, ?it/s]"
      ]
     },
     "metadata": {},
     "output_type": "display_data"
    },
    {
     "data": {
      "application/vnd.jupyter.widget-view+json": {
       "model_id": "b2a79a366e39418fba7c1cc00c3f410a",
       "version_major": 2,
       "version_minor": 0
      },
      "text/plain": [
       "  0%|          | 0/6 [00:00<?, ?it/s]"
      ]
     },
     "metadata": {},
     "output_type": "display_data"
    },
    {
     "name": "stderr",
     "output_type": "stream",
     "text": [
      "wandb: WARNING Path ./testing/60c615e295af4a6e8e2b318203f08367/wandb/ wasn't writable, using system temp directory\n",
      "wandb: WARNING Path ./testing/191b626229d246a1b899c81651e19fc8/wandb/ wasn't writable, using system temp directory\n",
      "wandb: WARNING Path ./testing/beb8fabb672d4820bbe0833d5993edff/wandb/ wasn't writable, using system temp directory\n",
      "wandb: WARNING Path ./testing/a72199c633bc4a04a92d43f33393457c/wandb/ wasn't writable, using system temp directory\n",
      "wandb: WARNING Path ./testing/883dad37a4f1400994ac5ce1606c588f/wandb/ wasn't writable, using system temp directory\n",
      "wandb: WARNING Path ./testing/c3ecc39b43d4479cb7f2364da0cc82ba/wandb/ wasn't writable, using system temp directory\n",
      "500 response executing GraphQL.\n",
      "{\"errors\":[{\"message\":\"An internal error occurred. Please contact support.\",\"path\":[\"upsertBucket\"]}],\"data\":{\"upsertBucket\":null}}\n",
      "wandb: ERROR Error while calling W&B API: An internal error occurred. Please contact support. (<Response [500]>)\n",
      "500 response executing GraphQL.\n",
      "{\"errors\":[{\"message\":\"An internal error occurred. Please contact support.\",\"path\":[\"upsertBucket\"]}],\"data\":{\"upsertBucket\":null}}\n",
      "wandb: ERROR Error while calling W&B API: An internal error occurred. Please contact support. (<Response [500]>)\n",
      "500 response executing GraphQL.\n",
      "{\"errors\":[{\"message\":\"An internal error occurred. Please contact support.\",\"path\":[\"upsertBucket\"]}],\"data\":{\"upsertBucket\":null}}\n",
      "wandb: ERROR Error while calling W&B API: An internal error occurred. Please contact support. (<Response [500]>)\n",
      "500 response executing GraphQL.\n",
      "{\"errors\":[{\"message\":\"An internal error occurred. Please contact support.\",\"path\":[\"upsertBucket\"]}],\"data\":{\"upsertBucket\":null}}\n",
      "wandb: ERROR Error while calling W&B API: An internal error occurred. Please contact support. (<Response [500]>)\n",
      "500 response executing GraphQL.\n",
      "{\"errors\":[{\"message\":\"An internal error occurred. Please contact support.\",\"path\":[\"upsertBucket\"]}],\"data\":{\"upsertBucket\":null}}\n",
      "wandb: ERROR Error while calling W&B API: An internal error occurred. Please contact support. (<Response [500]>)\n"
     ]
    }
   ],
   "source": [
    "overrides = {\n",
    "    'entity': 'megatruong',\n",
    "    'project': 'mlflow-import-example'\n",
    "}\n",
    "\n",
    "importer.send_everything_parallel(overrides=overrides)"
   ]
  },
  {
   "attachments": {},
   "cell_type": "markdown",
   "metadata": {},
   "source": [
    "### 2.2. Import everything with finer-grained control"
   ]
  },
  {
   "cell_type": "code",
   "execution_count": 9,
   "metadata": {},
   "outputs": [
    {
     "data": {
      "text/plain": [
       "<generator object MlflowImporter.get_all_runs at 0x17f3f2f90>"
      ]
     },
     "execution_count": 9,
     "metadata": {},
     "output_type": "execute_result"
    }
   ],
   "source": [
    "importer.get_all_runs()"
   ]
  },
  {
   "cell_type": "code",
   "execution_count": 10,
   "metadata": {},
   "outputs": [
    {
     "data": {
      "application/vnd.jupyter.widget-view+json": {
       "model_id": "7c822dd30fb14e02b5a38fdf01a7af41",
       "version_major": 2,
       "version_minor": 0
      },
      "text/plain": [
       "  0%|          | 0/3 [00:00<?, ?it/s]"
      ]
     },
     "metadata": {},
     "output_type": "display_data"
    },
    {
     "data": {
      "application/vnd.jupyter.widget-view+json": {
       "model_id": "ebc57935155b4bd6a44b321b650f1d70",
       "version_major": 2,
       "version_minor": 0
      },
      "text/plain": [
       "  0%|          | 0/3 [00:00<?, ?it/s]"
      ]
     },
     "metadata": {},
     "output_type": "display_data"
    },
    {
     "data": {
      "application/vnd.jupyter.widget-view+json": {
       "model_id": "92cf82faaa134b13a5663c06f289a14c",
       "version_major": 2,
       "version_minor": 0
      },
      "text/plain": [
       "  0%|          | 0/3 [00:00<?, ?it/s]"
      ]
     },
     "metadata": {},
     "output_type": "display_data"
    },
    {
     "data": {
      "application/vnd.jupyter.widget-view+json": {
       "model_id": "5035baf822384c5b814d9c80f19efe33",
       "version_major": 2,
       "version_minor": 0
      },
      "text/plain": [
       "0it [00:00, ?it/s]"
      ]
     },
     "metadata": {},
     "output_type": "display_data"
    }
   ],
   "source": [
    "overrides = {\n",
    "    'entity': 'megatruong',\n",
    "    'project': 'mlflow-import-apple'\n",
    "}\n",
    "\n",
    "overrides2 = {\n",
    "    'entity': 'megatruong',\n",
    "    'project': 'mlflow-import-banana'\n",
    "}\n",
    "\n",
    "for i, run in enumerate(importer.get_all_runs()):\n",
    "\n",
    "    if i % 2 == 0:\n",
    "        override = overrides\n",
    "    else:\n",
    "        override = overrides2\n",
    "    \n",
    "    importer.send(run, overrides=override)"
   ]
  },
  {
   "cell_type": "code",
   "execution_count": null,
   "metadata": {},
   "outputs": [],
   "source": []
  }
 ],
 "metadata": {
  "kernelspec": {
   "display_name": "mlflow39",
   "language": "python",
   "name": "python3"
  },
  "language_info": {
   "codemirror_mode": {
    "name": "ipython",
    "version": 3
   },
   "file_extension": ".py",
   "mimetype": "text/x-python",
   "name": "python",
   "nbconvert_exporter": "python",
   "pygments_lexer": "ipython3",
   "version": "3.9.15"
  },
  "orig_nbformat": 4,
  "vscode": {
   "interpreter": {
    "hash": "178e7a7c2a912b228a7a1db502d4013506b72584fe20bf5cd57dc8f3c0acd841"
   }
  }
 },
 "nbformat": 4,
 "nbformat_minor": 2
}
